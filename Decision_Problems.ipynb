{
  "nbformat": 4,
  "nbformat_minor": 0,
  "metadata": {
    "colab": {
      "name": "Decision Problems.ipynb",
      "provenance": [],
      "collapsed_sections": []
    },
    "kernelspec": {
      "name": "python3",
      "display_name": "Python 3"
    },
    "language_info": {
      "name": "python"
    }
  },
  "cells": [
    {
      "cell_type": "markdown",
      "source": [
        "**DECISION PROBLEMS**"
      ],
      "metadata": {
        "id": "gwm_8rFFI2ry"
      }
    },
    {
      "cell_type": "markdown",
      "source": [
        "**1.PROGRAM TO FIND THE BIGGEST OF TWO NUMBERS**\n"
      ],
      "metadata": {
        "id": "5r1yXlGcI8Id"
      }
    },
    {
      "cell_type": "code",
      "source": [
        "a=int(input(\"Enter a number 1 : \"))\n",
        "b=int(input(\"Enter a number 2 : \"))\n",
        "if a>b:\n",
        "  print(a,\"is greater than\",b)\n",
        "elif b>a:\n",
        "  print(b,\"is greater than\",a)\n",
        "else:\n",
        "  print(a,\"is equal to\",b)  \n"
      ],
      "metadata": {
        "colab": {
          "base_uri": "https://localhost:8080/"
        },
        "id": "fXQ5eQMjI8cp",
        "outputId": "8fb24be1-a328-497b-bdf4-c04940581eb2"
      },
      "execution_count": 2,
      "outputs": [
        {
          "output_type": "stream",
          "name": "stdout",
          "text": [
            "Enter a number 1 : 67\n",
            "Enter a number 2 : 79\n",
            "79 is greater than 67\n"
          ]
        }
      ]
    },
    {
      "cell_type": "markdown",
      "source": [
        "**2.PROGRAM TO FIND THE SMALLEST NUMBER OUT OF THREE\n",
        "NUMBERS**"
      ],
      "metadata": {
        "id": "lDP8zCYPI8pp"
      }
    },
    {
      "cell_type": "code",
      "source": [
        "a=int(input(\"Enter a number 1 : \"))\n",
        "b=int(input(\"Enter a number 2 : \"))\n",
        "c=int(input(\"Enter a number 3 : \"))\n",
        "if a<b:\n",
        "  if a<c:\n",
        "    print(\"The smallest number is :\",a)\n",
        "  else:\n",
        "    print(\"The smallest number is :\",c)  \n",
        "else:\n",
        "  if b<c:\n",
        "    print(\"The smallest number is :\",b)\n",
        "  else:\n",
        "    print(\"The smallest number is :\",c)\n",
        "      \n",
        "\n",
        "      \n",
        "\n"
      ],
      "metadata": {
        "colab": {
          "base_uri": "https://localhost:8080/"
        },
        "id": "2H78nvbtI8yw",
        "outputId": "9673be9c-c4a7-409d-d8a5-6a3ff5394b60"
      },
      "execution_count": 1,
      "outputs": [
        {
          "output_type": "stream",
          "name": "stdout",
          "text": [
            "Enter a number 1 : 3\n",
            "Enter a number 2 : 6\n",
            "Enter a number 3 : 9\n",
            "The smallest number is : 3\n"
          ]
        }
      ]
    },
    {
      "cell_type": "markdown",
      "source": [
        "**3.PROGRAM TO FIND THE DISTANCE BETWEEN THE 2 POINTS\n",
        "ON A NUMBER LINE**\n",
        "\n",
        "\n",
        "\n",
        "\n",
        "\n"
      ],
      "metadata": {
        "id": "iuHccTCFI87B"
      }
    },
    {
      "cell_type": "code",
      "source": [
        "import math\n",
        "a=int(input(\"Enter a number 1 : \"))\n",
        "b=int(input(\"Enter a number 2 : \"))\n",
        "x=abs(a-b)\n",
        "print(\"The distance between the 2 points on a number line is :\",x)"
      ],
      "metadata": {
        "colab": {
          "base_uri": "https://localhost:8080/"
        },
        "id": "BVg9kS9ZI9CD",
        "outputId": "99ff8f7c-b612-4dc6-c801-92a794372173"
      },
      "execution_count": 8,
      "outputs": [
        {
          "output_type": "stream",
          "name": "stdout",
          "text": [
            "Enter a number 1 : 9\n",
            "Enter a number 2 : -4\n",
            "The distance between the 2 points on a number line is : 13\n"
          ]
        }
      ]
    },
    {
      "cell_type": "markdown",
      "source": [
        "**4.PROGRAM TO CHECK WHETHER A NUMBER IS TWO DIGIT\n",
        "NUMBER OR NOT**\n"
      ],
      "metadata": {
        "id": "L2G0w8m_I9Iy"
      }
    },
    {
      "cell_type": "code",
      "source": [
        "a=int(input(\"Enter a number  : \"))\n",
        "if a>=10 and a<=99:\n",
        "  print(a,\"is a two digit number \")\n",
        "else:\n",
        "  print(a,\"is not a two digit number \")\n"
      ],
      "metadata": {
        "colab": {
          "base_uri": "https://localhost:8080/"
        },
        "id": "GDBoQ30WI9PJ",
        "outputId": "293fd9af-e8fa-47c6-b55c-fab1b50d56eb"
      },
      "execution_count": 9,
      "outputs": [
        {
          "output_type": "stream",
          "name": "stdout",
          "text": [
            "Enter a number  : 123\n",
            "123 is not a two digit number \n"
          ]
        }
      ]
    },
    {
      "cell_type": "markdown",
      "source": [
        "**5.PROGRAM TO CHECK WHETHER A NUMBER IS POSITIVE,NEGATIVE\n",
        "OR ZERO**\n"
      ],
      "metadata": {
        "id": "ZusYqNenI9Vo"
      }
    },
    {
      "cell_type": "code",
      "source": [
        "a=int(input(\"Enter a number  : \"))\n",
        "if a>0:\n",
        "  print(\"Positive\")\n",
        "elif a<0:\n",
        "  print(\"Negative\")\n",
        "else:\n",
        "  print(\"Zero\")    "
      ],
      "metadata": {
        "colab": {
          "base_uri": "https://localhost:8080/"
        },
        "id": "GE4g27oKI9bz",
        "outputId": "2abe4e13-2660-4b8a-bd1c-1a2e944bb0b8"
      },
      "execution_count": 3,
      "outputs": [
        {
          "output_type": "stream",
          "name": "stdout",
          "text": [
            "Enter a number  : 5\n",
            "Positive\n"
          ]
        }
      ]
    },
    {
      "cell_type": "markdown",
      "source": [
        "**6.PROGRAM TO CHECK WHETHER A NUMBER IS A MULTIPLE OF\n",
        "ANOTHER**"
      ],
      "metadata": {
        "id": "-dYpy9aXLRM3"
      }
    },
    {
      "cell_type": "code",
      "source": [
        "a=int(input(\"Enter a number  : \"))\n",
        "b=int(input(\"Enter a number  : \"))\n",
        "if a%b==0:\n",
        "  print(a,\"is a multiple of \",b)\n",
        "else:\n",
        "  print(b,\"is a multiple of \",a)\n"
      ],
      "metadata": {
        "colab": {
          "base_uri": "https://localhost:8080/"
        },
        "id": "1uWQVWKCLRbQ",
        "outputId": "7c9039cc-08d9-4414-a3c4-aed3f143172d"
      },
      "execution_count": 4,
      "outputs": [
        {
          "output_type": "stream",
          "name": "stdout",
          "text": [
            "Enter a number  : 3\n",
            "Enter a number  : 57\n",
            "57 is a multiple of  3\n"
          ]
        }
      ]
    }
  ]
}