{
  "nbformat": 4,
  "nbformat_minor": 0,
  "metadata": {
    "colab": {
      "name": "Iterative or looping problems .ipynb",
      "provenance": [],
      "collapsed_sections": []
    },
    "kernelspec": {
      "name": "python3",
      "display_name": "Python 3"
    },
    "language_info": {
      "name": "python"
    }
  },
  "cells": [
    {
      "cell_type": "markdown",
      "source": [
        "**ITERATIVE OR LOOPING** **PROBLEMS**"
      ],
      "metadata": {
        "id": "-Em98f0Qbt1x"
      }
    },
    {
      "cell_type": "markdown",
      "source": [
        "1. Develop a code to find the reverse of a given number"
      ],
      "metadata": {
        "id": "4dBXSBLxb7EW"
      }
    },
    {
      "cell_type": "code",
      "source": [
        "n=int(input(\"Enter a number : \"))\n",
        "rev=0\n",
        "x=n\n",
        "while (n>0):\n",
        "  rev=rev*10+n%10\n",
        "  n=n//10\n",
        "print(\"The reverse of the number\",x,\"is : \",rev)  \n",
        "\n"
      ],
      "metadata": {
        "colab": {
          "base_uri": "https://localhost:8080/"
        },
        "id": "TJgbR4fvcD0-",
        "outputId": "918d624b-73f6-46e8-b757-417514a31210"
      },
      "execution_count": null,
      "outputs": [
        {
          "output_type": "stream",
          "name": "stdout",
          "text": [
            "Enter a number : 56\n",
            "The reverse of the number 56 is :  65\n"
          ]
        }
      ]
    },
    {
      "cell_type": "markdown",
      "source": [
        "2. Develop a code to find the sum of the first N natural numbers"
      ],
      "metadata": {
        "id": "aSmvVA1Hd1jn"
      }
    },
    {
      "cell_type": "code",
      "source": [
        "N=int(input(\"Enter the limit : \"))\n",
        "i=1\n",
        "sum=0\n",
        "while(i<=N):\n",
        "  sum=sum+i\n",
        "  i=i+1\n",
        "print(\"The sum of first\",N,\"natural numbers is :\",sum)  \n"
      ],
      "metadata": {
        "colab": {
          "base_uri": "https://localhost:8080/"
        },
        "id": "HCJ1hKt4eKf2",
        "outputId": "a93c8156-7d8e-4c7e-8d4f-5cb465dd1eb3"
      },
      "execution_count": null,
      "outputs": [
        {
          "output_type": "stream",
          "name": "stdout",
          "text": [
            "Enter the limit : 6\n",
            "The sum of first 6 natural numbers is : 21\n"
          ]
        }
      ]
    },
    {
      "cell_type": "markdown",
      "source": [
        "3.Develop a code to print the sum of the factors of a number"
      ],
      "metadata": {
        "id": "zznKvey7fN0K"
      }
    },
    {
      "cell_type": "code",
      "source": [
        "n=int(input(\"Enter a number : \"))\n",
        "f=1\n",
        "sum=0\n",
        "while (f<n):\n",
        "  if (n%f==0):\n",
        "    print(f)\n",
        "    sum=sum+f\n",
        "  f=f+1\n",
        "print(\"The sum of the factors of\",n,\"is : \",sum)    "
      ],
      "metadata": {
        "id": "j1ZGhqbNhSMx",
        "colab": {
          "base_uri": "https://localhost:8080/"
        },
        "outputId": "cac79c24-e6f8-4e44-f765-e68750c37ad3"
      },
      "execution_count": null,
      "outputs": [
        {
          "output_type": "stream",
          "name": "stdout",
          "text": [
            "Enter a number : 4\n",
            "1\n",
            "2\n",
            "The sum of the factors of 4 is :  3\n"
          ]
        }
      ]
    },
    {
      "cell_type": "markdown",
      "source": [
        "4.Develop a code to print the N terms of an  arithmetic sequence"
      ],
      "metadata": {
        "id": "x1HCQM3OhSjd"
      }
    },
    {
      "cell_type": "code",
      "source": [
        "a=int(input(\"Enter the first term of the arithmetic sequence : \"))\n",
        "d=int(input(\"Enter the common difference : \"))\n",
        "n=int(input(\"Enter the number of terms : \"))\n",
        "print(a)\n",
        "for i in range(n-1):\n",
        "  a=a+d\n",
        "  print(a)\n",
        "\n"
      ],
      "metadata": {
        "id": "OtKnheywhX1W",
        "colab": {
          "base_uri": "https://localhost:8080/"
        },
        "outputId": "817399c1-8945-497a-d603-ac95dfede3c5"
      },
      "execution_count": null,
      "outputs": [
        {
          "output_type": "stream",
          "name": "stdout",
          "text": [
            "Enter the first term of the arithmetic sequence : 1\n",
            "Enter the common difference : 2\n",
            "Enter the number of terms : 4\n",
            "1\n",
            "3\n",
            "5\n",
            "7\n"
          ]
        }
      ]
    },
    {
      "cell_type": "markdown",
      "source": [
        "5.Develop a code to print the n terms of the Fibonacci series"
      ],
      "metadata": {
        "id": "lUDDa5cShYKd"
      }
    },
    {
      "cell_type": "code",
      "source": [
        "n=int(input(\"Enter the limit : \"))\n",
        "f0=0\n",
        "f1=1\n",
        "print(f0)\n",
        "print(f1)\n",
        "for i in range(n-2):\n",
        "  f2=f0+f1\n",
        "  print(f2)\n",
        "  f0=f1\n",
        "  f1=f2\n",
        "\n"
      ],
      "metadata": {
        "id": "IfmslKFxhsjO",
        "colab": {
          "base_uri": "https://localhost:8080/"
        },
        "outputId": "c1dfb5d4-b683-4602-e6ca-b4c65a5d61cb"
      },
      "execution_count": null,
      "outputs": [
        {
          "output_type": "stream",
          "name": "stdout",
          "text": [
            "Enter the limit : 6\n",
            "0\n",
            "1\n",
            "1\n",
            "2\n",
            "3\n",
            "5\n"
          ]
        }
      ]
    },
    {
      "cell_type": "markdown",
      "source": [
        "6.Develop a code to check whether a number is palindrome or not"
      ],
      "metadata": {
        "id": "VJEKgLpIhueG"
      }
    },
    {
      "cell_type": "code",
      "source": [
        "n=int(input(\"Enter the number : \"))\n",
        "rev=0\n",
        "x=n\n",
        "while (n>0):\n",
        "  rev=rev*10+n%10\n",
        "  n=n//10\n",
        "if (x==rev):\n",
        "  print(x,\"is a palindrome\")\n",
        "else:\n",
        "  print(x,\"is not a palindrome\")\n",
        "\n",
        "\n",
        "\n"
      ],
      "metadata": {
        "id": "DIsfZUIwh-h2",
        "colab": {
          "base_uri": "https://localhost:8080/"
        },
        "outputId": "09a1fa8e-4354-4a61-fec3-6f8527ea4879"
      },
      "execution_count": null,
      "outputs": [
        {
          "output_type": "stream",
          "name": "stdout",
          "text": [
            "Enter the number : 454\n",
            "454 is a palindrome\n"
          ]
        }
      ]
    },
    {
      "cell_type": "markdown",
      "source": [
        "7.Develop a code to check whether a number is Armstrong or not"
      ],
      "metadata": {
        "id": "iVKhIkLvh-td"
      }
    },
    {
      "cell_type": "code",
      "source": [
        "n=int(input(\"Enter a number : \"))\n",
        "x=n\n",
        "s=0\n",
        "while (n>0):\n",
        "  r=n%10 \n",
        "  s=s+(r**3)\n",
        "  n=n/10\n",
        "if (s==x):\n",
        "  print(x,\"is an armstrong number\")\n",
        "else:\n",
        "  print(x,\"is not an armstrong number\")    \n",
        "\n"
      ],
      "metadata": {
        "id": "hQiYxjBiiCUt",
        "colab": {
          "base_uri": "https://localhost:8080/"
        },
        "outputId": "669bddd5-c23e-481f-a8c9-f0c6c5036e6b"
      },
      "execution_count": null,
      "outputs": [
        {
          "output_type": "stream",
          "name": "stdout",
          "text": [
            "Enter a number : 153\n",
            "153 is not an armstrong number\n"
          ]
        }
      ]
    },
    {
      "cell_type": "markdown",
      "source": [
        "8.Develop a code to evaluate x^n"
      ],
      "metadata": {
        "id": "uNCeX7ZaihTF"
      }
    },
    {
      "cell_type": "code",
      "source": [
        "x=int(input(\"Enter the number : \"))\n",
        "n=int(input(\"Enter the power : \"))\n",
        "i=1\n",
        "while(y<=n):\n",
        "  y=x*x\n",
        "  y=x*y\n",
        "  i=i+1\n",
        "print(y)\n"
      ],
      "metadata": {
        "id": "0cfWesYbim8G",
        "colab": {
          "base_uri": "https://localhost:8080/"
        },
        "outputId": "225b8727-a81e-49ad-a645-3c1be92111d4"
      },
      "execution_count": null,
      "outputs": [
        {
          "output_type": "stream",
          "name": "stdout",
          "text": [
            "Enter the number : 4\n",
            "Enter the power : 3\n",
            "64\n"
          ]
        }
      ]
    }
  ]
}