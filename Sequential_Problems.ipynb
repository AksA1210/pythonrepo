{
  "nbformat": 4,
  "nbformat_minor": 0,
  "metadata": {
    "colab": {
      "name": "Sequential Problems.ipynb",
      "provenance": [],
      "collapsed_sections": []
    },
    "kernelspec": {
      "name": "python3",
      "display_name": "Python 3"
    },
    "language_info": {
      "name": "python"
    }
  },
  "cells": [
    {
      "cell_type": "markdown",
      "source": [
        "**SEQUENTIAL PROBLEMS**"
      ],
      "metadata": {
        "id": "fdmUTj19-yJl"
      }
    },
    {
      "cell_type": "markdown",
      "source": [
        "1. Program to print the Average of Three Numbers"
      ],
      "metadata": {
        "id": "hWEPVfVL_FNc"
      }
    },
    {
      "cell_type": "code",
      "source": [
        "a=int(input(\"Enter a number 1 : \"))\n",
        "b=int(input(\"Enter a number 2 : \"))\n",
        "c=int(input(\"Enter a number 3 : \"))\n",
        "sum = a+b+c\n",
        "avg=sum/3\n",
        "print(\"Average = \",avg)"
      ],
      "metadata": {
        "colab": {
          "base_uri": "https://localhost:8080/"
        },
        "id": "LedXUTeG_Hjd",
        "outputId": "e7db7adb-9e38-4bee-89f4-c8a76432185c"
      },
      "execution_count": 9,
      "outputs": [
        {
          "output_type": "stream",
          "name": "stdout",
          "text": [
            "Enter a number 1 : 4\n",
            "Enter a number 2 : 7\n",
            "Enter a number 3 : 13\n",
            "Average =  8.0\n"
          ]
        }
      ]
    },
    {
      "cell_type": "markdown",
      "source": [
        "2. Program to print the Sum and Average of Three Numbers"
      ],
      "metadata": {
        "id": "ZgUTo7eC_II8"
      }
    },
    {
      "cell_type": "code",
      "source": [
        "a=int(input(\"Enter a number 1 : \"))\n",
        "b=int(input(\"Enter a number 2 : \"))\n",
        "c=int(input(\"Enter a number 3 : \"))\n",
        "avg=sum/3\n",
        "print(\"Sum = \" ,sum)\n",
        "print(\"Average = \",avg)"
      ],
      "metadata": {
        "colab": {
          "base_uri": "https://localhost:8080/"
        },
        "id": "Vf2VzClV_P8I",
        "outputId": "7b4052fd-b22c-4ffb-9a8a-178cbe07998a"
      },
      "execution_count": 10,
      "outputs": [
        {
          "output_type": "stream",
          "name": "stdout",
          "text": [
            "Enter a number 1 : 23\n",
            "Enter a number 2 : 34\n",
            "Enter a number 3 : 12\n",
            "Sum =  24\n",
            "Average =  8.0\n"
          ]
        }
      ]
    },
    {
      "cell_type": "markdown",
      "source": [
        "3. Program to Convert the Time entered in Seconds to Hours,Minutes,Seconds"
      ],
      "metadata": {
        "id": "UBRa4qZA_QP-"
      }
    },
    {
      "cell_type": "code",
      "source": [
        "sec=int(input(\"Enter the time in seconds : \"))\n",
        "mins=int(sec/60)\n",
        "hrs=int(sec/3600)\n",
        "print(\"The time in minutes:\",mins)\n",
        "print(\"The time in hours:\",hrs)\n",
        "print(\"The time in seconds:\",sec)"
      ],
      "metadata": {
        "colab": {
          "base_uri": "https://localhost:8080/"
        },
        "id": "N_jYYZga_WHP",
        "outputId": "ff66629d-5d18-4eae-a41b-1bb49fb3e6e1"
      },
      "execution_count": 3,
      "outputs": [
        {
          "output_type": "stream",
          "name": "stdout",
          "text": [
            "Enter the time in seconds : 7200\n",
            "The time in minutes: 120\n",
            "The time in hours: 2\n",
            "The time in seconds: 7200\n"
          ]
        }
      ]
    },
    {
      "cell_type": "markdown",
      "source": [
        "4. Program to Print the Area and Perimeter of a Triangle"
      ],
      "metadata": {
        "id": "6WN8ZYoM_WSv"
      }
    },
    {
      "cell_type": "code",
      "source": [
        "a=int(input(\"Enter the side length : \"))\n",
        "b=int(input(\"Enter the side length : \"))\n",
        "c=int(input(\"Enter the side length : \"))\n",
        "s=a+b+c/2\n",
        "d=s-a\n",
        "e=s-b\n",
        "f=s-c\n",
        "g=s*d*e*f\n",
        "area=g**0.5\n",
        "p=a+b+c\n",
        "print(\"The perimeter of the triangle is :\",p)\n",
        "print(\"The area of the triangle is :\",area)"
      ],
      "metadata": {
        "colab": {
          "base_uri": "https://localhost:8080/"
        },
        "id": "ZBQaK3pt_bTE",
        "outputId": "8d1e9537-3208-485c-d5e5-701db23cab4e"
      },
      "execution_count": 7,
      "outputs": [
        {
          "output_type": "stream",
          "name": "stdout",
          "text": [
            "Enter the side length : 10\n",
            "Enter the side length : 15\n",
            "Enter the side length : 20\n",
            "The perimeter of the triangle is : 45\n",
            "The area of the triangle is : 512.3475382979799\n"
          ]
        }
      ]
    },
    {
      "cell_type": "markdown",
      "source": [
        "5. Program to Print the Area of a Circle"
      ],
      "metadata": {
        "id": "ooKyZoN2_btj"
      }
    },
    {
      "cell_type": "code",
      "source": [
        "r=int(input(\"Enter the radius : \"))\n",
        "area=3.14*r*r\n",
        "print(\"Area of circle with radius\",r,\"is : \",area)\n"
      ],
      "metadata": {
        "colab": {
          "base_uri": "https://localhost:8080/"
        },
        "id": "gyfxAowU_p28",
        "outputId": "b47395e9-7fbc-4a8e-ebdd-b0c88e0e4e27"
      },
      "execution_count": 1,
      "outputs": [
        {
          "output_type": "stream",
          "name": "stdout",
          "text": [
            "Enter the radius : 20\n",
            "Area of circle with radius  20  is :  1256.0\n"
          ]
        }
      ]
    },
    {
      "cell_type": "markdown",
      "source": [
        "6.Program to enter two unequal number and interchange them without using a third variable."
      ],
      "metadata": {
        "id": "GGfJvp-z_gg6"
      }
    },
    {
      "cell_type": "code",
      "source": [
        "a=int(input(\"Enter the number : \"))\n",
        "b=int(input(\"Enter the number : \"))\n",
        "print(\"Before swap\")\n",
        "print(\"a = \",a)  \n",
        "print(\"b = \",b)\n",
        "a=a+b\n",
        "b=a-b\n",
        "a=a-b\n",
        "print(\"After swap\")\n",
        "print(\"a = \",a)  \n",
        "print(\"b = \",b)  "
      ],
      "metadata": {
        "colab": {
          "base_uri": "https://localhost:8080/"
        },
        "id": "7RXJGcdB_lUb",
        "outputId": "5ed2e3dd-7dd4-4530-9ec1-ff00eb632477"
      },
      "execution_count": 8,
      "outputs": [
        {
          "output_type": "stream",
          "name": "stdout",
          "text": [
            "Enter the number : 5\n",
            "Enter the number : 8\n",
            "Before swap\n",
            "a =  5\n",
            "b =  8\n",
            "After swap\n",
            "a =  8\n",
            "b =  5\n"
          ]
        }
      ]
    },
    {
      "cell_type": "markdown",
      "source": [
        "7. Program to  display sum, difference, product, quotient and remainder of two unequal numbers"
      ],
      "metadata": {
        "id": "nF-iDah2_lc7"
      }
    },
    {
      "cell_type": "code",
      "source": [
        "a=int(input(\"Enter the number : \"))\n",
        "b=int(input(\"Enter the number : \"))\n",
        "\n",
        "sum=a+b\n",
        "print(\"The sum is : \",sum)\n",
        "\n",
        "diff=a-b\n",
        "print(\"The differnce is : \",diff)\n",
        "\n",
        "prdt=a*b\n",
        "print(\"The product is : \",prdt)\n",
        "\n",
        "ratio=a/b\n",
        "print(\"The quotient obtained on floating point division is : \",ratio)\n",
        "\n",
        "rem=a%b\n",
        "print(\"The remainder obtained is : \",rem)\n",
        "\n",
        "quo=a//b\n",
        "print(\"The quotient obtained on integer division is : \",quo)"
      ],
      "metadata": {
        "colab": {
          "base_uri": "https://localhost:8080/"
        },
        "id": "5oCMcwP7_xR0",
        "outputId": "fdb17e7e-25bc-4790-bc20-604c4dd58898"
      },
      "execution_count": 12,
      "outputs": [
        {
          "output_type": "stream",
          "name": "stdout",
          "text": [
            "Enter the number : 36\n",
            "Enter the number : 8\n",
            "The sum is :  44\n",
            "The differnce is :  28\n",
            "The product is :  288\n",
            "The quotient obtained on floating point division is :  4.5\n",
            "The remainder obtained is :  4\n",
            "The quotient obtained on integer division is :  4\n"
          ]
        }
      ]
    },
    {
      "cell_type": "markdown",
      "source": [
        "8. Program to enter the number of days and display into years, months and days."
      ],
      "metadata": {
        "id": "VOxaNzC2_xhC"
      }
    },
    {
      "cell_type": "code",
      "source": [
        "d=int(input(\"Enter the no: of days : \"))\n",
        "m=int(d/30)\n",
        "y=int(d/365)\n",
        "print(\"Years : \",y)\n",
        "print(\"Months : \",m)\n",
        "print(\"Days : \",d)"
      ],
      "metadata": {
        "colab": {
          "base_uri": "https://localhost:8080/"
        },
        "id": "ox_KFuomCW7f",
        "outputId": "313aadc7-2995-40da-a496-ca8d2776251e"
      },
      "execution_count": 13,
      "outputs": [
        {
          "output_type": "stream",
          "name": "stdout",
          "text": [
            "Enter the no: of days : 400\n",
            "Years :  1\n",
            "Months :  13\n",
            "Days :  400\n"
          ]
        }
      ]
    }
  ]
}