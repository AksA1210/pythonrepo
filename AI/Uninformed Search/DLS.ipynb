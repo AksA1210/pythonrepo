{
  "nbformat": 4,
  "nbformat_minor": 0,
  "metadata": {
    "colab": {
      "provenance": []
    },
    "kernelspec": {
      "name": "python3",
      "display_name": "Python 3"
    },
    "language_info": {
      "name": "python"
    }
  },
  "cells": [
    {
      "cell_type": "code",
      "execution_count": 8,
      "metadata": {
        "id": "69w4uvXeS6nz",
        "colab": {
          "base_uri": "https://localhost:8080/"
        },
        "outputId": "28991cd8-a6e5-40c8-b55f-a8635c2d3893"
      },
      "outputs": [
        {
          "output_type": "stream",
          "name": "stdout",
          "text": [
            "[0, 2, 4]\n"
          ]
        }
      ],
      "source": [
        "WHITE = 0\n",
        "GREY = 1\n",
        "BLACK = 2\n",
        "\n",
        "class Graph:\n",
        "\n",
        "  def __init__(self,M):\n",
        "    self.matrix=M\n",
        "    self.N=M.shape[0]\n",
        "    self.parent= [None for i in range(self.N)]\n",
        "    self.color= [WHITE for i in range(self.N)]\n",
        "\n",
        "  def getParent(self,index):\n",
        "        return self.parent[index]\n",
        "\n",
        "  def getColor(self,index):\n",
        "      return self.color[index]\n",
        "  \n",
        "  def setParent(self,index,P):\n",
        "      self.parent[index] = P\n",
        "      \n",
        "  def setColor(self,index,color):\n",
        "      self.color[index] = color\n",
        "      \n",
        "  def getAdjacent(self,index):\n",
        "      A=[]\n",
        "      for i,v in enumerate(self.matrix[index,:]):\n",
        "          if v!=0:\n",
        "              A.append(i)\n",
        "      return A\n",
        "\n",
        "class DLS:\n",
        "\n",
        "  def __init__(self,Graph,MaxD,goal):\n",
        "    self.G = Graph\n",
        "    self.path = []\n",
        "    self.D = MaxD\n",
        "    self.level = 1\n",
        "    self.Goal = goal\n",
        "  \n",
        "  def Traversal(self,S):\n",
        "    self.path.append(S)\n",
        "    self.G.setColor(S,BLACK)\n",
        "    if S==self.Goal:\n",
        "      return self.path\n",
        "    elif len(self.path)==self.D:\n",
        "      return False\n",
        "    else:\n",
        "      self.level=self.level+1\n",
        "    for v in self.G.getAdjacent(S):\n",
        "      if self.G.getColor(v) == WHITE:\n",
        "        temp=self.Traversal(v)\n",
        "        if temp==True:\n",
        "          return self.path\n",
        "        elif temp==self.path:\n",
        "            return self.path \n",
        "        else:\n",
        "          self.path.remove(v)\n",
        "    return False  \n",
        "          \n",
        "    \n",
        "\n",
        "import numpy as np\n",
        "\n",
        "M = np.array([[0,1,1,0,0],\n",
        "              [1,1,0,1,0],\n",
        "              [1,0,0,1,1],\n",
        "              [0,1,1,0,1],\n",
        "              [0,0,1,1,0]])\n",
        "\n",
        "\n",
        "G = Graph(M)\n",
        "search = DLS(G,3,4)\n",
        "print(search.Traversal(0))"
      ]
    }
  ]
}